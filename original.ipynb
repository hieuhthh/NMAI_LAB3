{
  "nbformat": 4,
  "nbformat_minor": 0,
  "metadata": {
    "kernelspec": {
      "name": "python3",
      "display_name": "Python 3"
    },
    "language_info": {
      "codemirror_mode": {
        "name": "ipython",
        "version": 3
      },
      "file_extension": ".py",
      "mimetype": "text/x-python",
      "name": "python",
      "nbconvert_exporter": "python",
      "pygments_lexer": "ipython3",
      "version": "3.7.1"
    },
    "colab": {
      "provenance": []
    },
    "accelerator": "GPU"
  },
  "cells": [
    {
      "cell_type": "markdown",
      "metadata": {
        "id": "GUvdvAaASzmD"
      },
      "source": [
        "# Lab 3: Machine Learning\n",
        "\n",
        "- MSSV: \n",
        "- Họ và tên:  \n"
      ]
    },
    {
      "cell_type": "markdown",
      "metadata": {
        "id": "8Esno5cNSzmX"
      },
      "source": [
        "## Yêu cầu bài tập\n",
        "\n",
        "**Cách làm bài**\n",
        "\n",
        "\n",
        "Bạn sẽ làm trực tiếp trên file notebook này; trong file, từ `TODO` để cho biết những phần mà bạn cần phải làm.\n",
        "\n",
        "Bạn có thể thảo luận ý tưởng cũng như tham khảo các tài liệu, nhưng *code và bài làm phải là của bạn*. \n",
        "\n",
        "Nếu vi phạm thì sẽ bị 0 điểm cho bài tập này.\n",
        "\n",
        "**Cách nộp bài**\n",
        "\n",
        "Trước khi nộp bài, rerun lại notebook (`Kernel` -> `Restart & Run All`).\n",
        "\n",
        "Sau đó, tạo thư mục được đặt tên theo MSSV của bạn (vd, nếu bạn có MSSV là 1234567 thì bạn đặt tên thư mục là `1234567`). Copy file `Lab 3 - Machine Learning.ipynb` vào, rồi nén thư mục này lại theo định dạng `.zip` (không nén với các định dạng khác) và nộp ở link trên moodle.\n",
        "\n",
        "**Nội dung bài tập**\n",
        "\n",
        "Bài tập 3 là bài tập cá nhân. Trong bài này, bạn sẽ cài đặt 2 thuật toán học máy: \n",
        "1. Cây quyết định (Decision tree)\n",
        "2. Gaussian Naive Bayes"
      ]
    },
    {
      "cell_type": "markdown",
      "metadata": {
        "id": "lYefhgwoSzmZ"
      },
      "source": [
        "### Import library"
      ]
    },
    {
      "cell_type": "code",
      "metadata": {
        "id": "uXTmvF6JSzmb"
      },
      "source": [
        "import matplotlib.pyplot as plt\n",
        "from sklearn import datasets\n",
        "import pandas as pd\n",
        "import numpy as np\n",
        "from sklearn.metrics import accuracy_score"
      ],
      "execution_count": 2,
      "outputs": []
    },
    {
      "cell_type": "markdown",
      "metadata": {
        "id": "CO6JKObwSzmn"
      },
      "source": [
        "### Load Iris dataset"
      ]
    },
    {
      "cell_type": "code",
      "metadata": {
        "id": "6EFp9Jl3Szmo"
      },
      "source": [
        "from sklearn.model_selection import train_test_split\n",
        "iris=datasets.load_iris()\n",
        "\n",
        "X=iris.data\n",
        "y=iris.target\n",
        "\n",
        "# split dataset into training data and testing data\n",
        "X_train,X_test,y_train,y_test=train_test_split(X,y,test_size=0.33, random_state=42)"
      ],
      "execution_count": 3,
      "outputs": []
    },
    {
      "cell_type": "markdown",
      "metadata": {
        "id": "kz-C6eu2Szmt"
      },
      "source": [
        "## 1. Cây quyết định: Iterative Dichotomiser 3 (ID3)"
      ]
    },
    {
      "cell_type": "markdown",
      "metadata": {
        "id": "UEQ7wvnpSzm3"
      },
      "source": [
        "### 1.1 Information Gain"
      ]
    },
    {
      "cell_type": "markdown",
      "metadata": {
        "id": "9doZ5CKSSzm5"
      },
      "source": [
        "Thông tin kỳ vọng (entropy):"
      ]
    },
    {
      "cell_type": "markdown",
      "metadata": {
        "id": "KmJNW8LxSzm6"
      },
      "source": [
        "$$Entropy=-\\sum_{i}^{n}p_ilog_{2}(p_i)$$"
      ]
    },
    {
      "cell_type": "markdown",
      "metadata": {
        "id": "Z-H-41plSzm7"
      },
      "source": [
        "Hàm entropy đạt giá trị nhỏ nhất nếu có một giá trị $p_i=1$, đạt giá trị lớn nhất nếu tất cả các $p_i$ bằng nhau. Những tính chất này của hàm entropy khiến nó được sử dụng trong việc đo độ hỗn loạn của một phép phân chia của ID3."
      ]
    },
    {
      "cell_type": "code",
      "metadata": {
        "id": "HGAwlg1dSzm9"
      },
      "source": [
        "def entropy(counts, n_samples):\n",
        "    \"\"\"\n",
        "    Parameters:\n",
        "    -----------\n",
        "    counts: shape (n_classes): list number of samples in each class\n",
        "    n_samples: number of data samples\n",
        "    \n",
        "    -----------\n",
        "    return entropy \n",
        "    \"\"\"\n",
        "    # TODO: calculate entropy and return its value\n",
        "    \n"
      ],
      "execution_count": 4,
      "outputs": []
    },
    {
      "cell_type": "code",
      "metadata": {
        "id": "EJ7on8pvSznN"
      },
      "source": [
        "def entropy_of_one_division(division): \n",
        "    \"\"\"\n",
        "    Returns entropy of a divided group of data\n",
        "    Data may have multiple classes\n",
        "    \"\"\"\n",
        "    n_samples = len(division)\n",
        "    n_classes = set(division)\n",
        "    \n",
        "    # count samples in each class then store it to list counts\n",
        "    counts=[]\n",
        "    # TODO:\n",
        "\n",
        "    return entropy(counts,n_samples),n_samples\n",
        "\n",
        "\n",
        "def get_entropy(y_predict, y):\n",
        "    \"\"\"\n",
        "    Returns entropy of a split\n",
        "    y_predict is the split decision by cutoff, True/Fasle\n",
        "    \"\"\"\n",
        "    n = len(y)\n",
        "    entropy_true, n_true = entropy_of_one_division(y[y_predict]) # left hand side entropy\n",
        "    entropy_false, n_false = entropy_of_one_division(y[~y_predict]) # right hand side entropy\n",
        "    # overall entropy\n",
        "\n",
        "    s = None \n",
        "    # TODO: calculate overall entropy s=?\n",
        "\n",
        "    return s"
      ],
      "execution_count": null,
      "outputs": []
    },
    {
      "cell_type": "markdown",
      "metadata": {
        "id": "fFI9qoMWSznZ"
      },
      "source": [
        "Độ lợi thông tin phân lớp tập D theo thuộc tính A:\n",
        "$$ Gain(A)=Entrophy(D)-Entrophy_{A}(D)$$\n",
        "\n",
        "Trong ID3, tại mỗi node, thuộc tính được chọn được xác định dựa trên là thuộc tính khiến cho information gain đạt giá trị lớn nhất.\n",
        "\n",
        "Các thuộc tính của tập Iris đều có giá trị liên tục. Do đó ta cần rời rạc hóa cho từng thuộc tính. Cách đơn giản là sử dụng một ngưỡng `cutoff` chia giá trị của dữ liệu trên mỗi thuộc tính sẽ làm 2 phần: `<cutoff` và `>=cutoff`.\n",
        "\n",
        "Để tìm ngưỡng `cutoff` tốt nhất cho mỗi thuộc tính ta lần lượt thay `cutoff` bằng các giá trị của thuộc tính sau đó tính entropy, `cutoff` tốt nhất khi entropy bé nhất $ \\left(\\arg\\min Entrophy_{A}(D)\\right)$.  "
      ]
    },
    {
      "cell_type": "markdown",
      "metadata": {
        "id": "sCQvubYDSzna"
      },
      "source": [
        "### 1.2 Decision tree"
      ]
    },
    {
      "cell_type": "code",
      "metadata": {
        "id": "npc0RldfSznd"
      },
      "source": [
        "class DecisionTreeClassifier:\n",
        "    def __init__(self, tree=None, depth=0):\n",
        "        '''Parameters:\n",
        "        -----------------\n",
        "        tree: decision tree\n",
        "        depth: depth of decision tree after training'''\n",
        "        \n",
        "        self.depth = depth\n",
        "        self.tree=tree\n",
        "\n",
        "    def fit(self, X, y, node={}, depth=0):\n",
        "        '''Parameter:\n",
        "        -----------------\n",
        "        X: training data\n",
        "        y: label of training data\n",
        "        ------------------\n",
        "        return: node \n",
        "        \n",
        "        node: each node represented by cutoff value and column index, value and children.\n",
        "         - cutoff value is thresold where you divide your attribute\n",
        "         - column index is your data attribute index\n",
        "         - value of node is mean value of label indexes, \n",
        "           if a node is leaf all data samples will have same label\n",
        "        \n",
        "        Note that: we divide each attribute into 2 part => each node will have 2 children: left, right.\n",
        "        '''\n",
        "        \n",
        "        # Stop conditions\n",
        "        \n",
        "        # if all value of y are the same \n",
        "        if np.all(y==y[0]):\n",
        "            return {'val':y[0]}\n",
        "\n",
        "        else: \n",
        "            col_idx, cutoff, entropy = self.find_best_split_of_all(X, y)    # find one split given an information gain \n",
        "            y_left = y[X[:, col_idx] < cutoff]\n",
        "            y_right = y[X[:, col_idx] >= cutoff]\n",
        "            node = {'index_col':col_idx,\n",
        "                        'cutoff':cutoff,\n",
        "                   'val':np.mean(y)}\n",
        "            node['left'] = self.fit(X[X[:, col_idx] < cutoff], y_left, {}, depth+1)\n",
        "            node['right'] = self.fit(X[X[:, col_idx] >= cutoff], y_right, {}, depth+1)\n",
        "            self.depth += 1 \n",
        "            self.tree = node\n",
        "            return node\n",
        "    \n",
        "    def find_best_split_of_all(self, X, y):\n",
        "        col_idx = None\n",
        "        min_entropy = 1\n",
        "        cutoff = None\n",
        "        for i, col_data in enumerate(X.T):\n",
        "            entropy, cur_cutoff = self.find_best_split(col_data, y)\n",
        "            if entropy == 0: # best entropy\n",
        "                return i, cur_cutoff, entropy\n",
        "            elif entropy <= min_entropy:\n",
        "                min_entropy = entropy\n",
        "                col_idx = i\n",
        "                cutoff = cur_cutoff\n",
        "               \n",
        "        return col_idx, cutoff, min_entropy\n",
        "    \n",
        "    def find_best_split(self, col_data, y):\n",
        "        ''' Parameters:\n",
        "        -------------\n",
        "        col_data: data samples in column'''\n",
        "         \n",
        "        min_entropy = 10\n",
        "\n",
        "        # Loop through col_data find cutoff where entropy is minimum\n",
        "        \n",
        "        for value in set(col_data):\n",
        "            y_predict = col_data < value\n",
        "            my_entropy = get_entropy(y_predict, y)\n",
        "\n",
        "            min_entropy = cutoff = None\n",
        "            # TODO: calculate min_entropy, cutoff\n",
        "            # min_entropy = ?\n",
        "            # cutoff = ?\n",
        "            \n",
        "        return min_entropy, cutoff\n",
        "                                               \n",
        "    def predict(self, X):\n",
        "        tree = self.tree\n",
        "        pred = np.zeros(shape=len(X))\n",
        "        for i, c in enumerate(X):\n",
        "            pred[i] = self._predict(c)\n",
        "        return pred\n",
        "    \n",
        "    def _predict(self, row):\n",
        "        cur_layer = self.tree\n",
        "        while cur_layer.get('cutoff'):\n",
        "            if row[cur_layer['index_col']] < cur_layer['cutoff']:\n",
        "                cur_layer = cur_layer['left']\n",
        "            else:\n",
        "                cur_layer = cur_layer['right']\n",
        "        else:\n",
        "            return cur_layer.get('val')"
      ],
      "execution_count": null,
      "outputs": []
    },
    {
      "cell_type": "markdown",
      "metadata": {
        "id": "3psFlX6gSznt"
      },
      "source": [
        "### 1.3 Classification on Iris Dataset"
      ]
    },
    {
      "cell_type": "code",
      "metadata": {
        "id": "i59zcSdUSznv",
        "outputId": "c9a8a376-f15b-4a75-8572-1ee95dfe99ed",
        "colab": {
          "base_uri": "https://localhost:8080/",
          "height": 52
        }
      },
      "source": [
        "model = DecisionTreeClassifier()\n",
        "tree = model.fit(X_train, y_train)\n",
        "pred=model.predict(X_train)\n",
        "print('Accuracy of your decision tree model on training data:', accuracy_score(y_train,pred))\n",
        "pred=model.predict(X_test)\n",
        "print('Accuracy of your decision tree model:', accuracy_score(y_test,pred))\n"
      ],
      "execution_count": null,
      "outputs": [
        {
          "output_type": "stream",
          "text": [
            "Accuracy of your decision tree model on training data: 1.0\n",
            "Accuracy of your decision tree model: 0.96\n"
          ],
          "name": "stdout"
        }
      ]
    },
    {
      "cell_type": "markdown",
      "metadata": {
        "id": "ZjHLZYqNSzn6"
      },
      "source": [
        "## 2. Định lý Bayes\n",
        "\n",
        "Định lý Bayes được phát biểu dưới dạng toán học như sau:\n",
        "$$\\begin{equation}\n",
        "P\\left(A|B\\right)= \\dfrac{P\\left(B|A\\right)P\\left(A\\right)}{P\\left(B\\right)}\n",
        "\\end{equation}$$\n",
        "\n",
        "Nếu ta coi $B$ là dữ liệu $\\mathcal{D}$, các thông số cần ước tính $A$ là $w$, ta có:\n",
        "\n",
        "$$ \\begin{align}\n",
        "    \\underbrace{P(w|\\mathcal{D})}_{Posterior}= \\dfrac{1}{\\underbrace{P(\\mathcal{D})}_{Normalization}} \\overbrace{P(\\mathcal{D}|w)}^{\\text{Likelihood}} \\overbrace{P(w)}^{Prior}\n",
        "    \\end{align}\n",
        "$$"
      ]
    },
    {
      "cell_type": "markdown",
      "metadata": {
        "id": "SRTTxdhtSzn8"
      },
      "source": [
        "#### Naive Bayes\n",
        "Để giúp cho việc tính toán được đơn giản, người ta thường giả sử một cách đơn giản nhất rằng các thành phần của biến ngẫu nhiên $D$ (hay các thuộc tính của dữ liệu $D$) là độc lập với nhau, nếu biết $w$. Tức là:\n",
        "$$P(\\mathcal{D}|w)=\\prod _{i=1}^{d}P(x_i|w)$$\n",
        "\n",
        "$d$: số lượng thuộc tính\n"
      ]
    },
    {
      "cell_type": "markdown",
      "metadata": {
        "id": "8BqXEPzMSzn9"
      },
      "source": [
        "### 2.1. Probability Density Function"
      ]
    },
    {
      "cell_type": "code",
      "metadata": {
        "id": "40JhBXHsSzn-"
      },
      "source": [
        "class pdf:\n",
        "    def __init__(self,hist=None):\n",
        "        '''\n",
        "        A probability density function represented by a histogram\n",
        "        \n",
        "        hist: shape (n,1), n: number of hypotheses\n",
        "        hypo: hypothesis (simply understand as label)\n",
        "        ------------------\n",
        "        hist[hypo]=P(hypo)\n",
        "        '''\n",
        "        self.hist = hist\n",
        "        \n",
        "    # virtual function\n",
        "    def likelihood(self, data, hypo):\n",
        "        '''Paramters:\n",
        "        data: new data record \n",
        "        hypo: hypothesis (simply understand as label)\n",
        "        ---------\n",
        "        return P(data/hypo)\n",
        "        ''' \n",
        "        raise Exception()\n",
        "            \n",
        "    # update histogram for new data \n",
        "    def update(self, data):\n",
        "        ''' \n",
        "        P(hypo/data)=P(data/hypo)*P(hypo)*(1/P(data))\n",
        "        '''\n",
        "        \n",
        "        # Likelihood * Prior \n",
        "\n",
        "        # TODO: calculate self.hist\n",
        "        for hypo in self.hist.keys():\n",
        "            # self.hist[hypo] = ?\n",
        "            self.hist[hypo] = None\n",
        "    \n",
        "        # Normalization\n",
        "        \n",
        "        # TODO: calculate s=P(data)\n",
        "        # s = ?\n",
        "        s = None\n",
        "\n",
        "        for hypo in self.hist.keys():\n",
        "            self.hist[hypo] = self.hist[hypo]/s\n",
        "        \n",
        "    def plot_pdf(self):\n",
        "        # TODO: write a function to plot the histogram\n",
        "\n",
        "        return None\n",
        "\n",
        "    def maxHypo(self):\n",
        "        # find the hypothesis (class) with maximum probability from hist\n",
        "        # and return its value\n",
        "        # TODO:\n",
        "\n",
        "        return None"
      ],
      "execution_count": null,
      "outputs": []
    },
    {
      "cell_type": "markdown",
      "metadata": {
        "id": "UImyM0ttSzoJ"
      },
      "source": [
        "### 2.2 Classification on Iris Dataset"
      ]
    },
    {
      "cell_type": "markdown",
      "metadata": {
        "id": "lonlXQdWSzoL"
      },
      "source": [
        "#### Gaussian Naive Bayes"
      ]
    },
    {
      "cell_type": "markdown",
      "metadata": {
        "id": "vD0ZmqplSzoM"
      },
      "source": [
        "- Naive Bayes có thể được mở rộng cho dữ liệu với các thuộc tính có giá trị là số thực, phổ biến nhất bằng cách sử dụng phân phối chuẩn (Gaussian distribution).\n",
        "\n",
        "- Phần mở rộng này được gọi là Gaussian Naive Bayes. Các hàm khác có thể được sử dụng để ước tính phân phối dữ liệu, nhưng Gauss (hoặc phân phối chuẩn) là dễ nhất để làm việc vì chỉ cần ước tính giá trị trung bình và độ lệch chuẩn từ dữ liệu huấn luyện."
      ]
    },
    {
      "cell_type": "markdown",
      "metadata": {
        "id": "ax4E7_deSzoN"
      },
      "source": [
        "#### Define Gauss function"
      ]
    },
    {
      "cell_type": "markdown",
      "metadata": {
        "id": "SOjpgllESzoO"
      },
      "source": [
        "$$ f\\left(x;\\mu,\\sigma \\right)= \\dfrac{1}{\\sigma \\sqrt{2\\pi}} \n",
        "\\exp \\left({-\\dfrac{\\left(x-\\mu\\right)^2}{2 \\sigma^2}}\\right) $$"
      ]
    },
    {
      "cell_type": "code",
      "metadata": {
        "id": "iTHe4UlgSzoP"
      },
      "source": [
        "def Gauss(std,mean,x):\n",
        "    # Calculate the Gaussian probability distribution function for x\n",
        "    # and return its value\n",
        "    # TODO: p = ?\n",
        "    p = None\n",
        "\n",
        "    return p\n"
      ],
      "execution_count": null,
      "outputs": []
    },
    {
      "cell_type": "code",
      "metadata": {
        "id": "CmjU1ynKSzoW"
      },
      "source": [
        "class NBGaussian(pdf):\n",
        "    def __init__(self, hist=None, std=None, mean=None):\n",
        "        '''Parameters:\n",
        "        \n",
        "        '''\n",
        "        pdf.__init__(self, hist)\n",
        "        self.std=std\n",
        "        self.mean=mean\n",
        "\n",
        "    def likelihood(self,data, hypo):\n",
        "        '''\n",
        "        Returns: res=P(data/hypo)\n",
        "        -----------------\n",
        "        Naive bayes:\n",
        "            Atributes are assumed to be conditionally independent given the class value.\n",
        "        '''\n",
        "    \n",
        "        std=self.std[hypo]\n",
        "        mean=self.mean[hypo]\n",
        "        res=1 \n",
        "\n",
        "        # TODO: compute the likelihood\n",
        "        # res=res*P(x1/hypo)*P(x2/hypo)...\n",
        "\n",
        "        return res \n",
        "\n",
        "    def fit(self, X,y):\n",
        "        \"\"\"Parameters:\n",
        "        X: training data\n",
        "        y: labels of training data\n",
        "        \"\"\"\n",
        "        n=len(X)\n",
        "\n",
        "        # TODO: compute the number of iris species\n",
        "        # n_species=?\n",
        "        n_species = None\n",
        "        \n",
        "        hist={}\n",
        "        mean={}\n",
        "        std={}\n",
        "        \n",
        "        #separate  dataset into rows by class\n",
        "        for hypo in range(0,n_species):\n",
        "            # rows have the hypothesis label\n",
        "            # TODO rows=?\n",
        "            rows = None\n",
        "\n",
        "            # histogram for each hypo\n",
        "            # TODO probability=?\n",
        "            probability = None \n",
        "            hist[hypo]=probability\n",
        "            \n",
        "            # Each hypothesis is represented by its mean and std \n",
        "            '''mean and standard deviation should be calculated for each column (or each attribute)'''\n",
        "            # TODO mean[hypo]=?, std[hypo]=?\n",
        "            mean[hypo] = None\n",
        "            std[hypo] = None\n",
        "         \n",
        "        self.mean=mean\n",
        "        self.std=std\n",
        "        self.hist=hist\n",
        "   \n",
        "    def _predict(self, data, plot=False):\n",
        "        \"\"\"\n",
        "        Predict label for only 1 data sample\n",
        "        ------------\n",
        "        Parameters:\n",
        "        data: data sample\n",
        "        plot: True: draw histogram after update new data sample\n",
        "        -----------\n",
        "        return: label of data\n",
        "        \"\"\"\n",
        "        model=NBGaussian(hist=self.hist.copy(),std=self.std.copy(), mean=self.mean.copy())\n",
        "        model.update(data)\n",
        "        if (plot): model.plot_pdf()\n",
        "        return model.maxHypo()\n",
        "    \n",
        "    def predict(self, data):\n",
        "        \"\"\"Parameters:\n",
        "        Data: test data\n",
        "        ----------\n",
        "        return labels of test data\"\"\"\n",
        "        \n",
        "        pred=[]\n",
        "        for x in data:\n",
        "            pred.append(self._predict(x))\n",
        "        return pred"
      ],
      "execution_count": null,
      "outputs": []
    },
    {
      "cell_type": "markdown",
      "metadata": {
        "id": "8eKUIQBqSzoZ"
      },
      "source": [
        "#### Show histogram of training data"
      ]
    },
    {
      "cell_type": "code",
      "metadata": {
        "id": "yzxeLe-WSzoa"
      },
      "source": [
        "model_1=NBGaussian()\n",
        "model_1.fit(X_train, y_train)\n",
        "model_1.plot_pdf()"
      ],
      "execution_count": null,
      "outputs": []
    },
    {
      "cell_type": "markdown",
      "metadata": {
        "id": "lY3riuZHSzoe"
      },
      "source": [
        "#### Test with 1 data record"
      ]
    },
    {
      "cell_type": "code",
      "metadata": {
        "id": "RY_sMQSYSzoe"
      },
      "source": [
        "# label of y_test[10]\n",
        "print('Label of X_test[10]: ', y_test[10])\n",
        "# update model and show histogram with X_test[10]:\n",
        "\n",
        "print('Our histogram after update X_test[10]: ')\n",
        "model_1._predict(X_test[10],plot=True)\n"
      ],
      "execution_count": null,
      "outputs": []
    },
    {
      "cell_type": "markdown",
      "metadata": {
        "id": "mf7iK9bMSzoh"
      },
      "source": [
        "#### Evaluate your Gaussian Naive Bayes model"
      ]
    },
    {
      "cell_type": "code",
      "metadata": {
        "id": "JGPqkiRoSzok",
        "outputId": "50a529ce-5b2d-4a28-f25f-2a6ba3801d3c",
        "colab": {
          "base_uri": "https://localhost:8080/",
          "height": 34
        }
      },
      "source": [
        "pred=model_1.predict(X_test)\n",
        "print('Accuracy of your Gaussian Naive Bayes model:', accuracy_score(y_test,pred))"
      ],
      "execution_count": null,
      "outputs": [
        {
          "output_type": "stream",
          "text": [
            "Accuracy of your Gaussian Naive Bayes model: 0.96\n"
          ],
          "name": "stdout"
        }
      ]
    }
  ]
}