{
 "cells": [
  {
   "cell_type": "markdown",
   "metadata": {
    "colab_type": "text",
    "id": "b76YngfGGfyD"
   },
   "source": [
    "# Lab03: Cây quyết định"
   ]
  },
  {
   "cell_type": "markdown",
   "metadata": {
    "colab_type": "text",
    "id": "-xZqh-Z7GfyF"
   },
   "source": [
    "**Cách làm bài**\n",
    "\n",
    "\n",
    "- Làm trực tiếp vào notebook.\n",
    "- Làm những phần có chữ `TODO`.\n",
    "\n",
    "\n",
    "**Nội dung:**\n",
    "\n",
    "- Cây quyết định.\n",
    "- Naive Bayes"
   ]
  },
  {
   "cell_type": "markdown",
   "metadata": {
    "colab_type": "text",
    "id": "--NRbml7GfyG"
   },
   "source": [
    "### Import thư viện"
   ]
  },
  {
   "cell_type": "code",
   "execution_count": 1,
   "metadata": {
    "colab": {},
    "colab_type": "code",
    "id": "VhR1GCY5GfyH"
   },
   "outputs": [],
   "source": [
    "import matplotlib.pyplot as plt\n",
    "from sklearn import datasets\n",
    "import pandas as pd\n",
    "import numpy as np\n",
    "from sklearn.metrics import accuracy_score"
   ]
  },
  {
   "attachments": {},
   "cell_type": "markdown",
   "metadata": {},
   "source": [
    "### Hàm hỗ trợ"
   ]
  },
  {
   "cell_type": "markdown",
   "metadata": {
    "colab_type": "text",
    "id": "L-OzYr2SGfyN"
   },
   "source": [
    "### Tải bộ dữ liệu Iris"
   ]
  },
  {
   "cell_type": "code",
   "execution_count": 2,
   "metadata": {
    "colab": {},
    "colab_type": "code",
    "id": "oX5c3r4uGfyO"
   },
   "outputs": [],
   "source": [
    "from sklearn.model_selection import train_test_split\n",
    "iris=datasets.load_iris()\n",
    "\n",
    "X=iris.data\n",
    "y=iris.target\n",
    "\n",
    "#split dataset into training data and testing data\n",
    "X_train,X_test,y_train,y_test=train_test_split(X,y,test_size=0.33, random_state=42)"
   ]
  },
  {
   "cell_type": "markdown",
   "metadata": {
    "colab_type": "text",
    "id": "US1KgZBgGfyU"
   },
   "source": [
    "## 1. Cây quyết định: Iterative Dichotomiser 3 (ID3)"
   ]
  },
  {
   "cell_type": "markdown",
   "metadata": {
    "colab_type": "text",
    "id": "4sQh1ieuGfyV"
   },
   "source": [
    "### 1.1 Độ lợi thông tin"
   ]
  },
  {
   "cell_type": "markdown",
   "metadata": {
    "colab_type": "text",
    "id": "MSjCJR_eGfyV"
   },
   "source": [
    "Giá trị kỳ vọng của self-information (entropy):"
   ]
  },
  {
   "cell_type": "markdown",
   "metadata": {
    "colab_type": "text",
    "id": "BZM7fmb0GfyW"
   },
   "source": [
    "$$Entropy=-\\sum_{i}^{n}p_ilog_{2}(p_i)$$"
   ]
  },
  {
   "cell_type": "markdown",
   "metadata": {
    "colab_type": "text",
    "id": "WDjtCHd_GfyX"
   },
   "source": [
    "Hàm entropy đạt giá trị nhỏ nhất nếu có giá trị $p_i$ bằng 1, đạt giá trị lớn nhất nếu tất cả $p_i$ đều bằng nhau. Những tính chất này của hàm entropy làm cho nó là một biểu hiện của sự mất trật tự, hay tính ngẫu nhiên của một hệ thống, ..."
   ]
  },
  {
   "cell_type": "code",
   "execution_count": 3,
   "metadata": {},
   "outputs": [],
   "source": [
    "# debug variable\n",
    "\n",
    "# counts = [8]\n",
    "# n_samples = 8\n",
    "\n",
    "# col_data = [5.7, 7.6, 5.6, 5.1, 7.7, 5.8, 5.2, 5.0, 5.1, 5.0, 6.3, 4.8, 5.0, 5.1, 5.6, 5.1, 5.7, 7.7, 4.6, 6.2, 5.7, 5.5, 6.0, 5.8, 6.0, 5.4, 6.2, 5.5, 5.4, 5.0, 6.4, 5.0, 5.0, 5.5, 6.7, 4.9, 5.8, 5.0, 5.0, 5.9, 5.1, 6.9, 6.0, 6.1, 7.7, 5.5, 4.4, 4.3, 6.0, 7.2, 4.6, 5.1, 4.4, 6.3, 6.3, 4.6, 6.8, 6.3, 4.7, 6.1, 6.5, 6.2, 7.0, 6.4, 5.1, 6.9, 5.9, 6.5, 5.7, 5.2, 6.1, 4.5, 6.6, 5.5, 5.3, 5.6, 7.3, 6.7, 5.1, 4.9, 6.7, 7.2, 4.9, 6.7, 4.9, 6.9, 7.4, 6.3, 5.7, 6.5, 6.3, 6.4, 5.6, 5.9, 5.4, 6.1, 4.9, 5.8, 5.8, 7.1]\n",
    "# y = [1, 2, 1, 0, 2, 1, 0, 0, 0, 1, 2, 0, 0, 0, 1, 0, 1, 2, 0, 1, 2, 0, 2, 2, 1, 1, 2, 1, 0, 1, 2, 0, 0, 1, 1, 0, 2, 0, 0, 1, 1, 2, 1, 2, 2, 1, 0, 0, 2, 2, 0, 0, 0, 1, 2, 0, 2, 2, 0, 1, 1, 2, 1, 2, 0, 2, 1, 2, 1, 1, 1, 0, 1, 1, 0, 1, 2, 2, 0, 1, 2, 2, 0, 2, 0, 1, 2, 2, 1, 2, 1, 1, 2, 2, 0, 1, 2, 0, 1, 2]\n",
    "\n",
    "# col_data = np.array(col_data)\n",
    "# y = np.array(y)\n",
    "\n",
    "# y_predict = [False, False, False, False, False, False, False, False, False, False, False, False, False, False, False, False, False, False, True, False, False, False, False, False, False, False, False, False, False, False, False, False, False, False, False, False, False, False, False, False, False, False, False, False, False, False, True, True, False, False, True, False, True, False, False, True, False, False, True, False, False, False, False, False, False, False, False, False, False, False, False, True, False, False, False, False, False, False, False, False, False, False, False, False, False, False, False, False, False, False, False, False, False, False, False, False, False, False, False, False]\n",
    "# y_predict = np.array(y_predict)\n",
    "\n",
    "# n = 100\n",
    "\n",
    "# division = [0, 0, 0, 0, 0, 0, 0, 0]\n",
    "# division = np.array(division)"
   ]
  },
  {
   "cell_type": "code",
   "execution_count": 4,
   "metadata": {
    "colab": {},
    "colab_type": "code",
    "id": "kql-MFq-GfyX"
   },
   "outputs": [],
   "source": [
    "def entropy(counts, n_samples):\n",
    "    \"\"\"\n",
    "    Parameters:\n",
    "    -----------\n",
    "    counts: shape (n_classes): list number of samples in each class\n",
    "    n_samples: number of data samples\n",
    "    \n",
    "    -----------\n",
    "    return entropy \n",
    "    \"\"\"\n",
    "    #TODO\n",
    "\n",
    "    p_list = np.array(counts) / n_samples\n",
    "    en = 0\n",
    "\n",
    "    for p in p_list:\n",
    "        if p > 0:\n",
    "            en += p * np.log2(p)\n",
    "\n",
    "    return -en"
   ]
  },
  {
   "cell_type": "code",
   "execution_count": 5,
   "metadata": {
    "colab": {},
    "colab_type": "code",
    "id": "AsGJfLhmGfyc"
   },
   "outputs": [],
   "source": [
    "def entropy_of_one_division(division): \n",
    "    \"\"\"\n",
    "    Returns entropy of a divided group of data\n",
    "    Data may have multiple classes\n",
    "    \"\"\"\n",
    "    n_samples = len(division)\n",
    "    n_classes = set(division)\n",
    "    \n",
    "    # counts = []\n",
    "    #count samples in each class then store it to list counts\n",
    "    #TODO:\n",
    "    \n",
    "    list_division = list(division)\n",
    "    counts = [list_division.count(c) for c in n_classes]\n",
    "    \n",
    "    return entropy(counts,n_samples), n_samples\n",
    "\n",
    "\n",
    "def get_entropy(y_predict, y):\n",
    "    \"\"\"\n",
    "    Returns entropy of a split\n",
    "    y_predict is the split decision by cutoff, True/Fasle\n",
    "    \"\"\"\n",
    "    n = len(y)\n",
    "\n",
    "    entropy_true, n_true = entropy_of_one_division(y[y_predict]) # left hand side entropy\n",
    "    entropy_false, n_false = entropy_of_one_division(y[~y_predict]) # right hand side entropy\n",
    "    \n",
    "    # overall entropy\n",
    "    #TODO s=?\n",
    "\n",
    "    assert n_true + n_false > 0\n",
    "\n",
    "    s = (entropy_true * n_true + entropy_false * n_false) / (n_true + n_false)\n",
    "\n",
    "    return s"
   ]
  },
  {
   "cell_type": "markdown",
   "metadata": {
    "colab_type": "text",
    "id": "dWhnKZm9Gfyi"
   },
   "source": [
    "Độ lợi thông tin của việc phân loại tập thông tin D theo thuộc tính A:\n",
    "$$ Gain(A)=Entrophy(D)-Entrophy_{A}(D)$$\n",
    "\n",
    "Tại mỗi nút trong ID3, một thuộc tính được chọn nếu mức tăng thông tin của nó cao nhất so với các nút khác.\n",
    "\n",
    "Tất cả các thuộc tính của bộ dữ liệu Iris được biểu diễn bằng các giá trị liên tục. Do đó chúng ta cần biểu diễn chúng bằng các giá trị rời rạc. Một cách đơn giản là sử dụng ngưỡng `cutoff` để tách các giá trị của dữ liệu trên mỗi thuộc tính thành hai phần: ` <cutoff` và `> = cutoff`.\n",
    "\n",
    "Để tìm `cutoff` tốt nhất cho một thuộc tính, chúng ta thay thế `cutoff` bằng các giá trị của nó rồi tính toán entropy, `cutoff` tốt nhất đạt được khi giá trị của entropy nhỏ nhất $ \\left (\\arg \\min Entrophy_ {A} (D) \\right) $."
   ]
  },
  {
   "cell_type": "markdown",
   "metadata": {
    "colab_type": "text",
    "id": "tTKwaSw-Gfyj"
   },
   "source": [
    "### 1.2 Cây quyết định"
   ]
  },
  {
   "cell_type": "code",
   "execution_count": 6,
   "metadata": {
    "colab": {},
    "colab_type": "code",
    "id": "xp6omaz2Gfyj"
   },
   "outputs": [],
   "source": [
    "class DecisionTreeClassifier:\n",
    "    \"\"\"\n",
    "    Note:\n",
    "        min_entropy = log2(k), where k is the number of categories\n",
    "            => k = 3 => min_entropy = log2(3) ~ 1.58 \n",
    "            I just set it to 10 for simple\n",
    "    \"\"\"\n",
    "    def __init__(self, tree=None, depth=0):\n",
    "        '''Parameters:\n",
    "        -----------------\n",
    "        tree: decision tree\n",
    "        depth: depth of decision tree after training'''\n",
    "        \n",
    "        self.depth = depth\n",
    "        self.tree=tree\n",
    "        \n",
    "    def fit(self, X, y, node={}, depth=0):\n",
    "        '''Parameter:\n",
    "        -----------------\n",
    "        X: training data\n",
    "        y: label of training data\n",
    "        ------------------\n",
    "        return: node \n",
    "        \n",
    "        node: each node represented by cutoff value and column index, value and children.\n",
    "         - cutoff value is thresold where you divide your attribute\n",
    "         - column index is your data attribute index\n",
    "         - value of node is mean value of label indexes, \n",
    "           if a node is leaf all data samples will have same label\n",
    "        \n",
    "        Note that: we divide each attribute into 2 part => each node will have 2 children: left, right.\n",
    "        '''\n",
    "        \n",
    "        #Stop conditions\n",
    "    \n",
    "        # if y is empty\n",
    "        if not len(y):\n",
    "            return\n",
    "\n",
    "        #if all value of y are the same\n",
    "        if np.all(y==y[0]):\n",
    "            return {'val':y[0]}\n",
    "        else: \n",
    "            col_idx, cutoff, entropy = self.find_best_split_of_all(X, y)    # find one split given an information gain \n",
    "\n",
    "            y_left = y[X[:, col_idx] < cutoff]\n",
    "            y_right = y[X[:, col_idx] >= cutoff]\n",
    "            node = {'index_col':col_idx,\n",
    "                        'cutoff':cutoff,\n",
    "                   'val':np.mean(y)}\n",
    "            node['left'] = self.fit(X[X[:, col_idx] < cutoff], y_left, {}, depth+1)\n",
    "            node['right'] = self.fit(X[X[:, col_idx] >= cutoff], y_right, {}, depth+1)\n",
    "            self.depth += 1 \n",
    "            self.tree = node\n",
    "            return node\n",
    "    \n",
    "    def find_best_split_of_all(self, X, y):\n",
    "        col_idx = None\n",
    "        min_entropy = 10\n",
    "        cutoff = None\n",
    "\n",
    "        for i, col_data in enumerate(X.T):        \n",
    "            entropy, cur_cutoff = self.find_best_split(col_data, y)\n",
    "\n",
    "            if entropy == 0:                   #best entropy\n",
    "                return i, cur_cutoff, entropy\n",
    "            elif entropy <= min_entropy:\n",
    "                min_entropy = entropy\n",
    "                col_idx = i\n",
    "                cutoff = cur_cutoff\n",
    "               \n",
    "        return col_idx, cutoff, min_entropy\n",
    "    \n",
    "    def find_best_split(self, col_data, y):\n",
    "        ''' Parameters:\n",
    "        -------------\n",
    "        col_data: data samples in column'''\n",
    "         \n",
    "        min_entropy = 10\n",
    "        cutoff = None\n",
    "\n",
    "        #Loop through col_data find cutoff where entropy is minimum\n",
    "        \n",
    "        for value in set(col_data):\n",
    "            y_predict = col_data < value\n",
    "\n",
    "            my_entropy = get_entropy(y_predict, y)\n",
    "            #TODO\n",
    "            #min entropy=?, cutoff=?\n",
    "\n",
    "            if my_entropy <= min_entropy:\n",
    "                min_entropy = my_entropy\n",
    "                cutoff = value\n",
    "            \n",
    "        return min_entropy, cutoff\n",
    "                                               \n",
    "    def predict(self, X):\n",
    "        tree = self.tree\n",
    "        pred = np.zeros(shape=len(X))\n",
    "        for i, c in enumerate(X):\n",
    "            pred[i] = self._predict(c)\n",
    "        return pred\n",
    "    \n",
    "    def _predict(self, row):\n",
    "        cur_layer = self.tree\n",
    "        while cur_layer.get('cutoff'):\n",
    "            if row[cur_layer['index_col']] < cur_layer['cutoff']:\n",
    "                cur_layer = cur_layer['left']\n",
    "            else:\n",
    "                cur_layer = cur_layer['right']\n",
    "        else:\n",
    "            return cur_layer.get('val')"
   ]
  },
  {
   "cell_type": "markdown",
   "metadata": {
    "colab_type": "text",
    "id": "v_OsIHd-Gfyq"
   },
   "source": [
    "### 1.3 Phân loại trên Bộ dữ liệu Iris"
   ]
  },
  {
   "cell_type": "code",
   "execution_count": 7,
   "metadata": {
    "colab": {},
    "colab_type": "code",
    "id": "BNgHip1dGfyr",
    "outputId": "12173b62-c713-4ad2-ca10-81d8addc7112"
   },
   "outputs": [
    {
     "name": "stdout",
     "output_type": "stream",
     "text": [
      "Accuracy of your decision tree model on training data: 1.0\n",
      "Accuracy of your decision tree model: 0.96\n"
     ]
    }
   ],
   "source": [
    "model = DecisionTreeClassifier()\n",
    "tree = model.fit(X_train, y_train)\n",
    "pred=model.predict(X_train)\n",
    "print('Accuracy of your decision tree model on training data:', accuracy_score(y_train,pred))\n",
    "pred=model.predict(X_test)\n",
    "print('Accuracy of your decision tree model:', accuracy_score(y_test,pred))"
   ]
  },
  {
   "cell_type": "markdown",
   "metadata": {
    "colab_type": "text",
    "id": "2rXS4sPCGfyz"
   },
   "source": [
    "## 2. Định lý Bayes\n",
    "\n",
    "Công thức Bayes\n",
    "$$\\begin{equation}\n",
    "P\\left(A|B\\right)= \\dfrac{P\\left(B|A\\right)P\\left(A\\right)}{P\\left(B\\right)}\n",
    "\\end{equation}$$\n",
    "\n",
    "Nếu $B$ là dữ liệu của chúng ta thì $\\mathcal{D}$, $A$ và $w$ là các tham số mà chúng ta cần ước tính:\n",
    "\n",
    "$$ \\begin{align}\n",
    "    \\underbrace{P(w|\\mathcal{D})}_{Posterior}= \\dfrac{1}{\\underbrace{P(\\mathcal{D})}_{Normalization}} \\overbrace{P(\\mathcal{D}|w)}^{\\text{Likelihood}} \\overbrace{P(w)}^{Prior}\n",
    "    \\end{align}\n",
    "$$"
   ]
  },
  {
   "cell_type": "markdown",
   "metadata": {
    "colab_type": "text",
    "id": "zuPXhYHzGfy1"
   },
   "source": [
    "#### Naive Bayes\n",
    "Để đơn giản hóa, người ta thường giả định rằng các thành phần của biến ngẫu nhiên $D$ (hoặc các features của dữ liệu $D$) là độc lập với nhau, nếu $w$ được biết. Nghĩa là:\n",
    "$$P(\\mathcal{D}|w)=\\prod _{i=1}^{d}P(x_i|w)$$\n",
    "\n",
    "- $d$: số lượng features\n",
    "\n"
   ]
  },
  {
   "cell_type": "markdown",
   "metadata": {
    "colab_type": "text",
    "id": "1m4AZLwgGfy3"
   },
   "source": [
    "### 2.1. Hàm mật độ xác suất"
   ]
  },
  {
   "cell_type": "code",
   "execution_count": 15,
   "metadata": {
    "colab": {},
    "colab_type": "code",
    "id": "fA3arZy8Gfy4"
   },
   "outputs": [],
   "source": [
    "class pdf:\n",
    "    def __init__(self,hist=None):\n",
    "        '''\n",
    "        A probability density function represented by a histogram\n",
    "        \n",
    "        hist: shape (n,1), n: number of hypotheses\n",
    "        hypo: hypothesis (simply understand as label)\n",
    "        ------------------\n",
    "        hist[hypo]=P(hypo)\n",
    "        '''\n",
    "        self.hist = hist\n",
    "        \n",
    "    #virtual function\n",
    "    def likelihood(self, data, hypo):\n",
    "        '''Paramters:\n",
    "        data: new data record \n",
    "        hypo: hypothesis (simply understand as label)\n",
    "        ---------\n",
    "        return P(data/hypo)\n",
    "        ''' \n",
    "        raise Exception()\n",
    "            \n",
    "    #update histogram for new data \n",
    "    def update(self, data):\n",
    "        ''' \n",
    "        P(hypo/data)=P(data/hypo)*P(hypo)*(1/P(data))\n",
    "        '''\n",
    "        \n",
    "        #Likelihood * Prior \n",
    "        #TODO\n",
    "        \n",
    "        for hypo in self.hist.keys():\n",
    "            #self.hist[hypo]=?\n",
    "            \n",
    "            self.hist[hypo] = self.hist[hypo] * self.likelihood(data, hypo)\n",
    "            \n",
    "        #Normalization\n",
    "        \n",
    "        #TODO: s=P(data)\n",
    "        #s=?\n",
    "        \n",
    "        s = 1\n",
    "        \n",
    "        for hypo in self.hist.keys():\n",
    "            self.hist[hypo] = self.hist[hypo] / s\n",
    "        \n",
    "    def plot_pdf(self):\n",
    "        #plot Histogram\n",
    "        #TODO\n",
    "\n",
    "        list_keys = np.array(list(self.hist.keys()))\n",
    "        list_values = np.array(list(self.hist.values()))\n",
    "\n",
    "        plt.bar(list_keys, list_values, align='center')\n",
    "        plt.title('histogram')\n",
    "        plt.show()\n",
    "    \n",
    "    def maxHypo(self):\n",
    "        #find the hypothesis with maximum probability from hist\n",
    "        #TODO\n",
    "\n",
    "        best_hypo = None\n",
    "        max_hist = -1\n",
    "\n",
    "        for hypo, _hist in self.hist.items():\n",
    "            if _hist > max_hist:\n",
    "                max_hist = _hist\n",
    "                best_hypo = hypo\n",
    "\n",
    "        return best_hypo"
   ]
  },
  {
   "cell_type": "markdown",
   "metadata": {
    "colab_type": "text",
    "id": "x89nTrIEGfy7"
   },
   "source": [
    "### 2.2 Phân loại trên Bộ dữ liệu Iris"
   ]
  },
  {
   "cell_type": "markdown",
   "metadata": {
    "colab_type": "text",
    "id": "y9moO4N2Gfy8"
   },
   "source": [
    "#### Gaussian Naive Bayes"
   ]
  },
  {
   "cell_type": "markdown",
   "metadata": {
    "colab_type": "text",
    "id": "rhLm2pD-Gfy-"
   },
   "source": [
    "- Naive Bayes có thể được mở rộng để sử dụng trên dữ liệu liên tục, phổ biến nhất là bằng cách sử dụng phân phối chuẩn (phân phối Gaussian).\n",
    "\n",
    "- Phần mở rộng này được gọi là Gaussian Naive Bayes. Các hàm khác có thể được sử dụng để ước tính phân phối dữ liệu, nhưng Gauss (hoặc phân phối chuẩn) là dễ làm việc nhất vì chúng ta chỉ cần ước tính giá trị trung bình và độ lệch chuẩn từ dữ liệu huấn luyện."
   ]
  },
  {
   "cell_type": "markdown",
   "metadata": {
    "colab_type": "text",
    "id": "VDbWOYQ-GfzA"
   },
   "source": [
    "#### Định nghĩa hàm Gauss"
   ]
  },
  {
   "cell_type": "markdown",
   "metadata": {
    "colab_type": "text",
    "id": "TmlbwFHPGfzA"
   },
   "source": [
    "$$ f\\left(x;\\mu,\\sigma \\right)= \\dfrac{1}{\\sigma \\sqrt{2\\pi}} \n",
    "\\exp \\left({-\\dfrac{\\left(x-\\mu\\right)^2}{2 \\sigma^2}}\\right) $$"
   ]
  },
  {
   "cell_type": "code",
   "execution_count": 16,
   "metadata": {
    "colab": {},
    "colab_type": "code",
    "id": "-OpY89tkGfzB"
   },
   "outputs": [],
   "source": [
    "def Gauss(std,mean,x):\n",
    "    #Compute the Gaussian probability distribution function for x\n",
    "    #TODO \n",
    "    exp = np.exp(-((x - mean)**2 / (2 * std**2)))\n",
    "    prob = (1 / (std * np.sqrt(2 * np.pi))) * exp\n",
    "    return prob"
   ]
  },
  {
   "cell_type": "code",
   "execution_count": 17,
   "metadata": {},
   "outputs": [
    {
     "name": "stdout",
     "output_type": "stream",
     "text": [
      "0.3989422804014327\n",
      "0.24197072451914337\n",
      "0.24197072451914337\n"
     ]
    }
   ],
   "source": [
    "# test Gauss\n",
    "\n",
    "print(Gauss(1.0, 1.0, 1.0))\n",
    "print(Gauss(1.0, 1.0, 2.0))\n",
    "print(Gauss(1.0, 1.0, 0.0))"
   ]
  },
  {
   "cell_type": "code",
   "execution_count": 18,
   "metadata": {
    "colab": {},
    "colab_type": "code",
    "id": "RIutnepWGfzH"
   },
   "outputs": [],
   "source": [
    "class NBGaussian(pdf):\n",
    "    def __init__(self, hist=None, std=None, mean=None):\n",
    "        '''Parameters:\n",
    "        \n",
    "        '''\n",
    "        pdf.__init__(self, hist)\n",
    "        self.std=std\n",
    "        self.mean=mean\n",
    "        \n",
    "    def likelihood(self, data, hypo):\n",
    "        '''\n",
    "        Returns: res=P(data/hypo)\n",
    "        -----------------\n",
    "        Naive bayes:\n",
    "            Atributes are assumed to be conditionally independent given the class value.\n",
    "        '''\n",
    "    \n",
    "        std=self.std[hypo]\n",
    "        mean=self.mean[hypo]\n",
    "        res=1\n",
    "\n",
    "        #TODO\n",
    "        #res=res*P(x1/hypo)*P(x2/hypo)...\n",
    "\n",
    "        for _std, _mean, _x in zip(std, mean, data):\n",
    "            _likelihood = Gauss(_std, _mean, _x)\n",
    "            res *= _likelihood\n",
    "            \n",
    "        return res \n",
    "\n",
    "    def fit(self, X, y):\n",
    "        \"\"\"Parameters:\n",
    "        X: training data\n",
    "        y: labels of training data\n",
    "        \"\"\"\n",
    "        n = len(X)\n",
    "        #number of iris species\n",
    "        #TODO\n",
    "        #n_species=???\n",
    "\n",
    "        n_species = len(set(y))\n",
    "\n",
    "        hist={}\n",
    "        mean={}\n",
    "        std={}\n",
    "        \n",
    "        #separate dataset into rows by class\n",
    "        for hypo in range(0,n_species):\n",
    "            #rows have hypo label\n",
    "            #TODO rows=\n",
    "        \n",
    "            #histogram for each hypo\n",
    "            #TODO probability=?\n",
    "            \n",
    "            # hist[hypo]=propability\n",
    "            \n",
    "            #Each hypothesis represented by its mean and standard derivation\n",
    "            '''mean and standard derivation should be calculated for each column (or each attribute)'''\n",
    "            #TODO mean[hypo]=?, std[hypo]=?\n",
    "\n",
    "            rows = X[np.where(y == hypo)]\n",
    "        \n",
    "            propability = len(rows) / n\n",
    "            hist[hypo] = propability\n",
    "            mean[hypo] = []\n",
    "            std[hypo] = []\n",
    "\n",
    "            for col in rows.T:\n",
    "                _mean = col.mean()\n",
    "                _std = col.std() \n",
    "\n",
    "                mean[hypo].append(_mean)\n",
    "                std[hypo].append(_std)\n",
    "         \n",
    "        self.mean=mean\n",
    "        self.std=std\n",
    "        self.hist=hist\n",
    "   \n",
    "    def _predict(self, data, plot=False):\n",
    "        \"\"\"\n",
    "        Predict label for only 1 data sample\n",
    "        ------------\n",
    "        Parameters:\n",
    "        data: data sample\n",
    "        plot: True: draw histogram after update new record\n",
    "        -----------\n",
    "        return: label of data\n",
    "        \"\"\"\n",
    "        model=NBGaussian(hist=self.hist.copy(),std=self.std.copy(), mean=self.mean.copy())\n",
    "        model.update(data)\n",
    "        if (plot): model.plot_pdf()\n",
    "        return model.maxHypo()\n",
    "    \n",
    "    def predict(self, data):\n",
    "        \"\"\"Parameters:\n",
    "        Data: test data\n",
    "        ----------\n",
    "        return labels of test data\"\"\"\n",
    "        pred=[]\n",
    "        for x in data:\n",
    "            pred.append(self._predict(x))\n",
    "        return pred"
   ]
  },
  {
   "cell_type": "markdown",
   "metadata": {
    "colab_type": "text",
    "id": "1Gmv2qqxGfzM"
   },
   "source": [
    "#### Hiển thị histogram của dữ liệu huấn luyện"
   ]
  },
  {
   "cell_type": "code",
   "execution_count": 19,
   "metadata": {
    "colab": {},
    "colab_type": "code",
    "id": "BkjhuGkLGfzN",
    "outputId": "0cacea13-c482-4706-f759-2da97552fe4d"
   },
   "outputs": [
    {
     "data": {
      "image/png": "[encoded data removed]",
      "text/plain": [
       "<Figure size 432x288 with 1 Axes>"
      ]
     },
     "metadata": {
      "needs_background": "light"
     },
     "output_type": "display_data"
    }
   ],
   "source": [
    "model_1=NBGaussian()\n",
    "model_1.fit(X_train, y_train)\n",
    "model_1.plot_pdf()"
   ]
  },
  {
   "cell_type": "markdown",
   "metadata": {
    "colab_type": "text",
    "id": "itiPerhxGfzW"
   },
   "source": [
    "#### Kiểm tra với 1 data record"
   ]
  },
  {
   "cell_type": "code",
   "execution_count": 20,
   "metadata": {
    "colab": {},
    "colab_type": "code",
    "id": "ev9UTlb6GfzX",
    "outputId": "ad1d31ca-6cf9-4081-a0fe-ff7c65963db3"
   },
   "outputs": [
    {
     "name": "stdout",
     "output_type": "stream",
     "text": [
      "Label of X_test[10]:  2\n",
      "Our histogram after update X_test[10]: \n"
     ]
    },
    {
     "data": {
      "image/png": "[encoded data removed]",
      "text/plain": [
       "<Figure size 432x288 with 1 Axes>"
      ]
     },
     "metadata": {
      "needs_background": "light"
     },
     "output_type": "display_data"
    },
    {
     "data": {
      "text/plain": [
       "2"
      ]
     },
     "execution_count": 20,
     "metadata": {},
     "output_type": "execute_result"
    }
   ],
   "source": [
    "#label of y_test[10]\n",
    "print('Label of X_test[10]: ', y_test[10])\n",
    "#update model and show histogram with X_test[10]:\n",
    "\n",
    "print('Our histogram after update X_test[10]: ')\n",
    "model_1._predict(X_test[10],plot=True)\n"
   ]
  },
  {
   "cell_type": "markdown",
   "metadata": {
    "colab_type": "text",
    "id": "CAhcGUTgGfzd"
   },
   "source": [
    "#### Đánh giá mô hình Gaussian Naive Bayes của bạn"
   ]
  },
  {
   "cell_type": "code",
   "execution_count": 21,
   "metadata": {
    "colab": {},
    "colab_type": "code",
    "id": "S5Kvk-rUGfze",
    "outputId": "9ba3c648-275d-446f-d3f2-b0256a07a241"
   },
   "outputs": [
    {
     "name": "stdout",
     "output_type": "stream",
     "text": [
      "Accuracy of your Gaussian Naive Bayes model: 0.96\n"
     ]
    }
   ],
   "source": [
    "pred=model_1.predict(X_test)\n",
    "print('Accuracy of your Gaussian Naive Bayes model:', accuracy_score(y_test,pred))"
   ]
  },
  {
   "cell_type": "markdown",
   "metadata": {
    "colab_type": "text",
    "id": "gJaWYqt5Jvmp"
   },
   "source": [
    "**TODO**: Báo cáo về F1, Recall và Precision."
   ]
  },
  {
   "cell_type": "code",
   "execution_count": 22,
   "metadata": {},
   "outputs": [],
   "source": [
    "from sklearn.metrics import precision_recall_fscore_support"
   ]
  },
  {
   "cell_type": "code",
   "execution_count": 38,
   "metadata": {},
   "outputs": [
    {
     "name": "stdout",
     "output_type": "stream",
     "text": [
      "Average mode: None - the scores for each class are returned\n",
      "\n",
      "[19 15 16]\n",
      "Precision of your Gaussian Naive Bayes model: [1.         0.93333333 0.9375    ]\n",
      "Recall of your Gaussian Naive Bayes model: [1.         0.93333333 0.9375    ]\n",
      "F1 score of your Gaussian Naive Bayes model: [1.         0.93333333 0.9375    ]\n"
     ]
    }
   ],
   "source": [
    "print('Average mode: None - the scores for each class are returned')\n",
    "\n",
    "precision, recall, f1_score, _ = precision_recall_fscore_support(y_test, pred, average=None)\n",
    "print('Precision of your Gaussian Naive Bayes model:', precision)\n",
    "print('Recall of your Gaussian Naive Bayes model:', recall)\n",
    "print('F1 score of your Gaussian Naive Bayes model:', f1_score)"
   ]
  },
  {
   "cell_type": "code",
   "execution_count": 36,
   "metadata": {},
   "outputs": [
    {
     "name": "stdout",
     "output_type": "stream",
     "text": [
      "Average mode: micro - calculate metrics globally by counting the total true positives, false negatives and false positives\n",
      "Precision of your Gaussian Naive Bayes model: 0.96\n",
      "Recall of your Gaussian Naive Bayes model: 0.96\n",
      "F1 score of your Gaussian Naive Bayes model: 0.96\n"
     ]
    }
   ],
   "source": [
    "print('Average mode: micro - calculate metrics globally by counting the total true positives, false negatives and false positives')\n",
    "\n",
    "precision, recall, f1_score, _ = precision_recall_fscore_support(y_test, pred, average='micro')\n",
    "print('Precision of your Gaussian Naive Bayes model:', precision)\n",
    "print('Recall of your Gaussian Naive Bayes model:', recall)\n",
    "print('F1 score of your Gaussian Naive Bayes model:', f1_score)"
   ]
  },
  {
   "cell_type": "code",
   "execution_count": 37,
   "metadata": {},
   "outputs": [
    {
     "name": "stdout",
     "output_type": "stream",
     "text": [
      "Average mode: macro - calculate metrics for each label, and find their unweighted mean. This does not take label imbalance into account\n",
      "Precision of your Gaussian Naive Bayes model: 0.9569444444444445\n",
      "Recall of your Gaussian Naive Bayes model: 0.9569444444444445\n",
      "F1 score of your Gaussian Naive Bayes model: 0.9569444444444445\n"
     ]
    }
   ],
   "source": [
    "print('Average mode: macro - calculate metrics for each label, and find their unweighted mean. This does not take label imbalance into account')\n",
    "\n",
    "precision, recall, f1_score, _ = precision_recall_fscore_support(y_test, pred, average='macro')\n",
    "print('Precision of your Gaussian Naive Bayes model:', precision)\n",
    "print('Recall of your Gaussian Naive Bayes model:', recall)\n",
    "print('F1 score of your Gaussian Naive Bayes model:', f1_score)"
   ]
  },
  {
   "cell_type": "code",
   "execution_count": null,
   "metadata": {},
   "outputs": [],
   "source": []
  }
 ],
 "metadata": {
  "colab": {
   "collapsed_sections": [],
   "name": "Lab04-DecisionTree&BayesTheorem.ipynb",
   "provenance": []
  },
  "kernelspec": {
   "display_name": "Python 3.9.12 ('hieunmt')",
   "language": "python",
   "name": "python3"
  },
  "language_info": {
   "codemirror_mode": {
    "name": "ipython",
    "version": 3
   },
   "file_extension": ".py",
   "mimetype": "text/x-python",
   "name": "python",
   "nbconvert_exporter": "python",
   "pygments_lexer": "ipython3",
   "version": "3.9.12"
  },
  "vscode": {
   "interpreter": {
    "hash": "7329050e1ba551351be0a542306158a45e0d9132df2d78f02ce7058e59c0ff58"
   }
  }
 },
 "nbformat": 4,
 "nbformat_minor": 1
}
